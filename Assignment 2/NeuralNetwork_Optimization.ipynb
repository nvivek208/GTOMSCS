{
 "cells": [
  {
   "cell_type": "code",
   "execution_count": 52,
   "metadata": {},
   "outputs": [],
   "source": [
    "import sklearn\n",
    "import numpy as np\n",
    "import pandas as pd\n",
    "from IPython.display import display\n",
    "from sklearn.model_selection import train_test_split\n",
    "pd.options.display.max_columns = None\n",
    "import matplotlib.pyplot as plt\n",
    "import matplotlib\n",
    "matplotlib.rc('figure', figsize=[10,5])\n",
    "import mlrose_hiive\n",
    "from sklearn.metrics import f1_score\n",
    "from functools import partial\n",
    "from sklearn.metrics import precision_recall_fscore_support"
   ]
  },
  {
   "cell_type": "code",
   "execution_count": 14,
   "metadata": {},
   "outputs": [],
   "source": [
    "from sklearn.model_selection import train_test_split\n",
    "from scipy.stats import zscore\n",
    "from sklearn.preprocessing import StandardScaler"
   ]
  },
  {
   "cell_type": "code",
   "execution_count": 15,
   "metadata": {},
   "outputs": [
    {
     "name": "stdout",
     "output_type": "stream",
     "text": [
      "<bound method NDFrame.head of         distance_from_home  distance_from_last_transaction  \\\n",
      "0                57.877857                        0.311140   \n",
      "1                10.829943                        0.175592   \n",
      "2                 5.091079                        0.805153   \n",
      "3                 2.247564                        5.600044   \n",
      "4                44.190936                        0.566486   \n",
      "...                    ...                             ...   \n",
      "999995            2.207101                        0.112651   \n",
      "999996           19.872726                        2.683904   \n",
      "999997            2.914857                        1.472687   \n",
      "999998            4.258729                        0.242023   \n",
      "999999           58.108125                        0.318110   \n",
      "\n",
      "        ratio_to_median_purchase_price  repeat_retailer  used_chip  \\\n",
      "0                             1.945940              1.0        1.0   \n",
      "1                             1.294219              1.0        0.0   \n",
      "2                             0.427715              1.0        0.0   \n",
      "3                             0.362663              1.0        1.0   \n",
      "4                             2.222767              1.0        1.0   \n",
      "...                                ...              ...        ...   \n",
      "999995                        1.626798              1.0        1.0   \n",
      "999996                        2.778303              1.0        1.0   \n",
      "999997                        0.218075              1.0        1.0   \n",
      "999998                        0.475822              1.0        0.0   \n",
      "999999                        0.386920              1.0        1.0   \n",
      "\n",
      "        used_pin_number  online_order  fraud  \n",
      "0                   0.0           0.0    0.0  \n",
      "1                   0.0           0.0    0.0  \n",
      "2                   0.0           1.0    0.0  \n",
      "3                   0.0           1.0    0.0  \n",
      "4                   0.0           1.0    0.0  \n",
      "...                 ...           ...    ...  \n",
      "999995              0.0           0.0    0.0  \n",
      "999996              0.0           0.0    0.0  \n",
      "999997              0.0           1.0    0.0  \n",
      "999998              0.0           1.0    0.0  \n",
      "999999              0.0           1.0    0.0  \n",
      "\n",
      "[1000000 rows x 8 columns]>\n"
     ]
    }
   ],
   "source": [
    "dataset = 'card_transdata.csv'\n",
    "df = pd.read_csv(dataset)\n",
    "\n",
    "print(df.head)"
   ]
  },
  {
   "cell_type": "code",
   "execution_count": 16,
   "metadata": {},
   "outputs": [
    {
     "name": "stdout",
     "output_type": "stream",
     "text": [
      "Number of Fraud Records: 87403\n",
      "Number of Legit Records: 912597\n"
     ]
    }
   ],
   "source": [
    "df['fraud'] = df['fraud'].astype(int)\n",
    "count_fraud = df['fraud'].value_counts()[1]\n",
    "count_nofraud = df['fraud'].value_counts()[0]\n",
    "\n",
    "print(f\"Number of Fraud Records: {count_fraud}\")\n",
    "print(f\"Number of Legit Records: {count_nofraud}\")"
   ]
  },
  {
   "cell_type": "code",
   "execution_count": 17,
   "metadata": {},
   "outputs": [
    {
     "name": "stdout",
     "output_type": "stream",
     "text": [
      "       distance_from_home  distance_from_last_transaction  \\\n",
      "0               21.045531                        6.341773   \n",
      "1               16.347560                        2.441970   \n",
      "2               55.595822                        0.068172   \n",
      "3                2.749042                        0.946270   \n",
      "4               91.112089                        5.778971   \n",
      "...                   ...                             ...   \n",
      "23995           10.195887                        4.477089   \n",
      "23996          103.149928                        0.101785   \n",
      "23997           30.151727                        0.832781   \n",
      "23998           14.931530                        0.436477   \n",
      "23999           19.484143                        5.139240   \n",
      "\n",
      "       ratio_to_median_purchase_price  repeat_retailer  used_chip  \\\n",
      "0                            9.404974              1.0        0.0   \n",
      "1                            2.397058              1.0        1.0   \n",
      "2                            0.040522              1.0        1.0   \n",
      "3                            0.489294              1.0        1.0   \n",
      "4                            0.858637              1.0        0.0   \n",
      "...                               ...              ...        ...   \n",
      "23995                        1.905983              1.0        1.0   \n",
      "23996                        2.017485              1.0        0.0   \n",
      "23997                        5.357237              1.0        0.0   \n",
      "23998                        1.585014              1.0        0.0   \n",
      "23999                        2.827739              1.0        1.0   \n",
      "\n",
      "       used_pin_number  online_order  fraud  \n",
      "0                  0.0           1.0      1  \n",
      "1                  0.0           1.0      0  \n",
      "2                  1.0           1.0      0  \n",
      "3                  0.0           0.0      0  \n",
      "4                  0.0           1.0      0  \n",
      "...                ...           ...    ...  \n",
      "23995              0.0           1.0      0  \n",
      "23996              0.0           1.0      1  \n",
      "23997              0.0           1.0      1  \n",
      "23998              0.0           1.0      0  \n",
      "23999              0.0           1.0      0  \n",
      "\n",
      "[24000 rows x 8 columns]\n"
     ]
    }
   ],
   "source": [
    "df_fraud = df[df['fraud']==1]\n",
    "df_legit = df[df['fraud']==0]\n",
    "\n",
    "fraudsize= 12000\n",
    "fraud_sampl = df_fraud.sample(n= fraudsize, random_state = 42)\n",
    "\n",
    "legitsize = 12000\n",
    "legit_sampl = df_legit.sample(n= legitsize, random_state =42)\n",
    "\n",
    "#concat to same dataset\n",
    "random_sampl = pd.concat([fraud_sampl, legit_sampl])\n",
    "# shuffling the dataset\n",
    "random_sampl = random_sampl.sample(frac =1, random_state = 42).reset_index(drop=True)\n",
    "print(random_sampl)\n"
   ]
  },
  {
   "cell_type": "code",
   "execution_count": 18,
   "metadata": {},
   "outputs": [
    {
     "name": "stdout",
     "output_type": "stream",
     "text": [
      "Total Null Values: distance_from_home                0\n",
      "distance_from_last_transaction    0\n",
      "ratio_to_median_purchase_price    0\n",
      "repeat_retailer                   0\n",
      "used_chip                         0\n",
      "used_pin_number                   0\n",
      "online_order                      0\n",
      "fraud                             0\n",
      "dtype: int64\n"
     ]
    }
   ],
   "source": [
    "null_values = random_sampl.isna().sum()\n",
    "print(\"Total Null Values:\", null_values)"
   ]
  },
  {
   "cell_type": "code",
   "execution_count": 19,
   "metadata": {},
   "outputs": [
    {
     "name": "stdout",
     "output_type": "stream",
     "text": [
      "Total Duplicates: 0\n"
     ]
    }
   ],
   "source": [
    "total_duplicates = random_sampl.duplicated().sum()\n",
    "print(\"Total Duplicates:\", total_duplicates)"
   ]
  },
  {
   "cell_type": "code",
   "execution_count": 20,
   "metadata": {},
   "outputs": [
    {
     "name": "stdout",
     "output_type": "stream",
     "text": [
      "       distance_from_home  distance_from_last_transaction  \\\n",
      "0               21.045531                        6.341773   \n",
      "1               16.347560                        2.441970   \n",
      "2               55.595822                        0.068172   \n",
      "3                2.749042                        0.946270   \n",
      "4               91.112089                        5.778971   \n",
      "...                   ...                             ...   \n",
      "23995           10.195887                        4.477089   \n",
      "23996          103.149928                        0.101785   \n",
      "23997           30.151727                        0.832781   \n",
      "23998           14.931530                        0.436477   \n",
      "23999           19.484143                        5.139240   \n",
      "\n",
      "       ratio_to_median_purchase_price  repeat_retailer  used_chip  \\\n",
      "0                            9.404974              1.0        0.0   \n",
      "1                            2.397058              1.0        1.0   \n",
      "2                            0.040522              1.0        1.0   \n",
      "3                            0.489294              1.0        1.0   \n",
      "4                            0.858637              1.0        0.0   \n",
      "...                               ...              ...        ...   \n",
      "23995                        1.905983              1.0        1.0   \n",
      "23996                        2.017485              1.0        0.0   \n",
      "23997                        5.357237              1.0        0.0   \n",
      "23998                        1.585014              1.0        0.0   \n",
      "23999                        2.827739              1.0        1.0   \n",
      "\n",
      "       used_pin_number  online_order  fraud  \n",
      "0                  0.0           1.0      1  \n",
      "1                  0.0           1.0      0  \n",
      "2                  1.0           1.0      0  \n",
      "3                  0.0           0.0      0  \n",
      "4                  0.0           1.0      0  \n",
      "...                ...           ...    ...  \n",
      "23995              0.0           1.0      0  \n",
      "23996              0.0           1.0      1  \n",
      "23997              0.0           1.0      1  \n",
      "23998              0.0           1.0      0  \n",
      "23999              0.0           1.0      0  \n",
      "\n",
      "[24000 rows x 8 columns]\n"
     ]
    }
   ],
   "source": [
    "random_sampl.drop_duplicates(inplace=True)\n",
    "print(random_sampl)"
   ]
  },
  {
   "cell_type": "code",
   "execution_count": 21,
   "metadata": {},
   "outputs": [],
   "source": [
    "import mlrose_hiive\n",
    "import numpy as np\n",
    "from sklearn.model_selection import train_test_split\n",
    "from sklearn.metrics import accuracy_score\n",
    "from sklearn.preprocessing import MinMaxScaler"
   ]
  },
  {
   "cell_type": "code",
   "execution_count": 22,
   "metadata": {},
   "outputs": [],
   "source": [
    "X = random_sampl.drop([\"fraud\"], axis=1)\n",
    "y = random_sampl[\"fraud\"]"
   ]
  },
  {
   "cell_type": "code",
   "execution_count": 23,
   "metadata": {},
   "outputs": [],
   "source": [
    "# Normalize feature data\n",
    "scaler = MinMaxScaler()\n",
    "X_scaled = scaler.fit_transform(X)"
   ]
  },
  {
   "cell_type": "code",
   "execution_count": 24,
   "metadata": {},
   "outputs": [],
   "source": [
    "# Split data into training and test sets\n",
    "X_train, X_test, y_train, y_test = train_test_split(X_scaled, y, test_size=0.3, random_state=3)"
   ]
  },
  {
   "cell_type": "code",
   "execution_count": 37,
   "metadata": {},
   "outputs": [],
   "source": [
    "\n",
    "# Define a neural network model using random hill climbing\n",
    "nn_model_rhc = mlrose_hiive.NeuralNetwork(hidden_nodes = [10], activation ='relu', \n",
    "                                 algorithm ='random_hill_climb', max_iters = 1000, \n",
    "                                 bias = True, is_classifier = True, learning_rate = 0.001,\n",
    "                                 early_stopping = True, clip_max = 5, max_attempts = 100, \n",
    "                                 random_state = 3, curve = True)"
   ]
  },
  {
   "cell_type": "code",
   "execution_count": 28,
   "metadata": {},
   "outputs": [
    {
     "name": "stdout",
     "output_type": "stream",
     "text": [
      "Accuracy of Neural Network with Random Hill Climbing: 0.51125\n"
     ]
    }
   ],
   "source": [
    "nn_model_rhc.fit(X_train, y_train)\n",
    "y_pred_rhc = nn_model_rhc.predict(X_test)\n",
    "accuracy_rhc = accuracy_score(y_test, y_pred_rhc)\n",
    "print(f'Accuracy of Neural Network with Random Hill Climbing: {accuracy_rhc}')"
   ]
  },
  {
   "cell_type": "code",
   "execution_count": 55,
   "metadata": {},
   "outputs": [
    {
     "name": "stdout",
     "output_type": "stream",
     "text": [
      "Precision: 0.52513763059498\n",
      "Recall: 0.51125\n",
      "F1 Score: 0.4076309948691158\n"
     ]
    }
   ],
   "source": [
    "precision, recall, f1_score, _ = precision_recall_fscore_support(y_test, y_pred_rhc, average='weighted')\n",
    "\n",
    "# Print precision, recall, and F1-score\n",
    "#print(f\"\\nAccuracy: {accuracy}\")\n",
    "print(\"Precision:\", precision)\n",
    "print(\"Recall:\", recall)\n",
    "print(\"F1 Score:\", f1_score)"
   ]
  },
  {
   "cell_type": "code",
   "execution_count": 50,
   "metadata": {},
   "outputs": [],
   "source": [
    "# Repeat the process for Simulated Annealing and Genetic Algorithm\n",
    "# For Simulated Annealing\n",
    "nn_model_sa = mlrose_hiive.NeuralNetwork(hidden_nodes = [10], activation ='relu', \n",
    "                                 algorithm ='simulated_annealing', max_iters = 1000, \n",
    "                                 bias = True, is_classifier = True, learning_rate = 0.001,\n",
    "                                 early_stopping = True, clip_max = 5, max_attempts = 100, \n",
    "                                 random_state = 3)"
   ]
  },
  {
   "cell_type": "code",
   "execution_count": 51,
   "metadata": {},
   "outputs": [
    {
     "name": "stdout",
     "output_type": "stream",
     "text": [
      "Accuracy of Neural Network with Simulated Annealing: 0.51125\n"
     ]
    }
   ],
   "source": [
    "nn_model_sa.fit(X_train, y_train)\n",
    "y_pred_sa = nn_model_sa.predict(X_test)\n",
    "accuracy_sa = accuracy_score(y_test, y_pred_sa)\n",
    "print(f'Accuracy of Neural Network with Simulated Annealing: {accuracy_sa}')"
   ]
  },
  {
   "cell_type": "code",
   "execution_count": 54,
   "metadata": {},
   "outputs": [
    {
     "name": "stdout",
     "output_type": "stream",
     "text": [
      "Precision: 0.52513763059498\n",
      "Recall: 0.51125\n",
      "F1 Score: 0.4076309948691158\n"
     ]
    }
   ],
   "source": [
    "precision, recall, f1_score, _ = precision_recall_fscore_support(y_test, y_pred_sa, average='weighted')\n",
    "\n",
    "# Print precision, recall, and F1-score\n",
    "#print(f\"\\nAccuracy: {accuracy}\")\n",
    "print(\"Precision:\", precision)\n",
    "print(\"Recall:\", recall)\n",
    "print(\"F1 Score:\", f1_score)"
   ]
  },
  {
   "cell_type": "code",
   "execution_count": 56,
   "metadata": {},
   "outputs": [],
   "source": [
    "# For Genetic Algorithm\n",
    "nn_model_ga = mlrose_hiive.NeuralNetwork(hidden_nodes = [10], activation ='relu', \n",
    "                                 algorithm ='genetic_alg', max_iters = 1000, \n",
    "                                 bias = True, is_classifier = True, learning_rate = 0.001,\n",
    "                                 early_stopping = True, clip_max = 5, max_attempts = 100, \n",
    "                                 random_state = 3)"
   ]
  },
  {
   "cell_type": "code",
   "execution_count": 57,
   "metadata": {},
   "outputs": [
    {
     "name": "stdout",
     "output_type": "stream",
     "text": [
      "Accuracy of Neural Network with Genetic Algorithm: 0.8759722222222223\n"
     ]
    }
   ],
   "source": [
    "nn_model_ga.fit(X_train, y_train)\n",
    "y_pred_ga = nn_model_ga.predict(X_test)\n",
    "accuracy_ga = accuracy_score(y_test, y_pred_ga)\n",
    "print(f'Accuracy of Neural Network with Genetic Algorithm: {accuracy_ga}')"
   ]
  },
  {
   "cell_type": "code",
   "execution_count": 59,
   "metadata": {},
   "outputs": [
    {
     "name": "stdout",
     "output_type": "stream",
     "text": [
      "Precision: 0.8760628107949149\n",
      "Recall: 0.8759722222222223\n",
      "F1 Score: 0.8759735644241076\n"
     ]
    }
   ],
   "source": [
    "precision, recall, f1_score, _ = precision_recall_fscore_support(y_test, y_pred_ga, average='weighted')\n",
    "\n",
    "# Print precision, recall, and F1-score\n",
    "\n",
    "print(\"Precision:\", precision)\n",
    "print(\"Recall:\", recall)\n",
    "print(\"F1 Score:\", f1_score)"
   ]
  },
  {
   "cell_type": "code",
   "execution_count": null,
   "metadata": {},
   "outputs": [],
   "source": []
  }
 ],
 "metadata": {
  "kernelspec": {
   "display_name": "Python 3",
   "language": "python",
   "name": "python3"
  },
  "language_info": {
   "codemirror_mode": {
    "name": "ipython",
    "version": 3
   },
   "file_extension": ".py",
   "mimetype": "text/x-python",
   "name": "python",
   "nbconvert_exporter": "python",
   "pygments_lexer": "ipython3",
   "version": "3.8.5"
  }
 },
 "nbformat": 4,
 "nbformat_minor": 4
}
